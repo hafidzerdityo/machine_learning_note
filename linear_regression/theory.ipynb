{
 "cells": [
  {
   "cell_type": "markdown",
   "metadata": {},
   "source": [
    "Supervised Learning \n",
    "- Labeled\n",
    "- Input to Output mapping (x -> y)\n",
    "- Regression, Classification\n",
    "- Regression Continuous OUTPUT, Classification Non-Continuous OUTPUT (Categorical)\n",
    "- Classification out is called class, can be binary classification and multiclass classification\n",
    "- Regression Housing Price Prediction\n",
    "- Classification Breast Cancer Malignant/Benign\n",
    "\n",
    "Unsupervised Learning\n",
    "- Not Labeled\n",
    "- Input to Structure mapping (x -> Structure)\n",
    "- Clustering, Anomaly Detection, Dimensionality Reduction"
   ]
  }
 ],
 "metadata": {
  "kernelspec": {
   "display_name": "Python 3",
   "language": "python",
   "name": "python3"
  },
  "language_info": {
   "codemirror_mode": {
    "name": "ipython",
    "version": 3
   },
   "file_extension": ".py",
   "mimetype": "text/x-python",
   "name": "python",
   "nbconvert_exporter": "python",
   "pygments_lexer": "ipython3",
   "version": "3.10.8"
  },
  "orig_nbformat": 4
 },
 "nbformat": 4,
 "nbformat_minor": 2
}
